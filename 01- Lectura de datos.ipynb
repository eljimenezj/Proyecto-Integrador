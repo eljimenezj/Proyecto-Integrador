{
 "cells": [
  {
   "cell_type": "markdown",
   "metadata": {},
   "source": [
    "# Lectura de datos de twitter via streaming"
   ]
  },
  {
   "cell_type": "code",
   "execution_count": null,
   "metadata": {},
   "outputs": [],
   "source": [
    "# Importar Librerias.\n",
    "\n",
    "import tweepy\n",
    "import credencialesApiTwitter\n",
    "\n",
    "try:\n",
    "    import json\n",
    "except ImportError:\n",
    "    import simplejson as json"
   ]
  },
  {
   "cell_type": "code",
   "execution_count": null,
   "metadata": {},
   "outputs": [],
   "source": [
    "# Configuración de tweepy para autenticarse con las credenciales de twitter\n",
    "\n",
    "auth = tweepy.OAuthHandler(credencialesApiTwitter.consumerkey, credencialesApiTwitter.consumerSecret)\n",
    "auth.set_access_token(credencialesApiTwitter.accessToken, credencialesApiTwitter.accessSecret)"
   ]
  },
  {
   "cell_type": "code",
   "execution_count": null,
   "metadata": {},
   "outputs": [],
   "source": [
    "# Consumo de la api de Twitter\n",
    "\n",
    "api = tweepy.API(auth, wait_on_rate_limit=True, wait_on_rate_limit_notify=True, compression=True)\n",
    "\n",
    "#------------------------------------------------------------------------------------------------------------------\n",
    "# wait_on_rate_limit= True, hará que la API espere automáticamente a que se repongan los límites de velocidad.\n",
    "# wait_on_rate_limit_notify = True,hará que la API imprima una notificación cuando Tweepy esté esperando que\n",
    "# se repongan los límites de velocidad.\n",
    "#------------------------------------------------------------------------------------------------------------------"
   ]
  },
  {
   "cell_type": "code",
   "execution_count": null,
   "metadata": {},
   "outputs": [],
   "source": [
    "#------------------------------------------------------------------------------------------------------------------\n",
    "# la siguiente función imprimirá los estados más recientes, incluidos los retuits, publicados por el usuario que\n",
    "# autentica y los amigos de ese usuario. Este es el equivalente de / timeline / home en la Web.\n",
    "#------------------------------------------------------------------------------------------------------------------\n",
    "\n",
    "def GetTweetHome(cantidadTweet):\n",
    "    for status in tweepy.Cursor(api.home_timeline).items(cantidadTweet):\n",
    "        print(status._json)\n",
    "\n",
    "class StreamListener(tweepy.StreamListener):\n",
    "\n",
    "    def on_status(self, status):\n",
    "        print(status._json)\n",
    "\n",
    "    def on_error(self, status_code):\n",
    "        if status_code == 420:\n",
    "            return False"
   ]
  },
  {
   "cell_type": "code",
   "execution_count": null,
   "metadata": {},
   "outputs": [],
   "source": [
    "## Consumo\n",
    "\n",
    "stream_listener = StreamListener()\n",
    "stream = tweepy.Stream(auth=api.auth, listener=stream_listener)\n",
    "stream.filter(track=[\"Avianca\", \"Avianca Star alliance\"], languages=[\"es\"])"
   ]
  }
 ],
 "metadata": {
  "kernelspec": {
   "display_name": "Python 3",
   "language": "python",
   "name": "python3"
  },
  "language_info": {
   "codemirror_mode": {
    "name": "ipython",
    "version": 3
   },
   "file_extension": ".py",
   "mimetype": "text/x-python",
   "name": "python",
   "nbconvert_exporter": "python",
   "pygments_lexer": "ipython3",
   "version": "3.7.3"
  }
 },
 "nbformat": 4,
 "nbformat_minor": 2
}
