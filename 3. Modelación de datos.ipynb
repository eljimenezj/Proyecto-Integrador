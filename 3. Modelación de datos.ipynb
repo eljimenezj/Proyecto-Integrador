{
 "cells": [
  {
   "cell_type": "markdown",
   "metadata": {},
   "source": [
    "# Modelación de datos  - Proyecto Integrador"
   ]
  },
  {
   "cell_type": "markdown",
   "metadata": {},
   "source": [
    "Este notebook presenta como se realizo la modelación y el entrenamiento de varios de modelos de clasificación de sentimientos. Esta modelación se realiza a partir de la tabla analitica obtenida en el notebook de data preparation en el que a partir del analisis de mineria de texto se llega al data frame que contiene todos los tweets (filas) y las palabras que aparecen en el bag of words (columnas) a partir de la limpieza, tokenización, remoción de stop words, lemma. Al final como se presento en el anterior notebook esta matriz utiliza el calculo del tf-idf para su construcción."
   ]
  },
  {
   "cell_type": "markdown",
   "metadata": {},
   "source": [
    "Los estudiantes que participaron en el desarrollo de este proyecto son:\n",
    "\n",
    "1. Jorge Luis Renteria\n",
    "2. Edgar Leandro Jimenez\n",
    "3. Jesus Alberto Arcia\n",
    "\n",
    "Universidad Eafit, 2019.\n",
    "\n"
   ]
  },
  {
   "cell_type": "markdown",
   "metadata": {},
   "source": [
    "### Importacion de librerias necesarias¶"
   ]
  },
  {
   "cell_type": "code",
   "execution_count": 1,
   "metadata": {},
   "outputs": [],
   "source": [
    "import pandas as pd\n",
    "import numpy as np\n",
    "from sklearn.svm import SVC\n",
    "from sklearn.ensemble import RandomForestClassifier\n",
    "from sklearn.ensemble import GradientBoostingClassifier\n",
    "from sklearn.tree import DecisionTreeClassifier\n",
    "from sklearn.model_selection import train_test_split\n",
    "from sklearn.neighbors import KNeighborsClassifier\n",
    "import glob"
   ]
  },
  {
   "cell_type": "markdown",
   "metadata": {},
   "source": [
    "### Carga de datos"
   ]
  },
  {
   "cell_type": "code",
   "execution_count": 7,
   "metadata": {},
   "outputs": [
    {
     "data": {
      "text/html": [
       "<div>\n",
       "<style scoped>\n",
       "    .dataframe tbody tr th:only-of-type {\n",
       "        vertical-align: middle;\n",
       "    }\n",
       "\n",
       "    .dataframe tbody tr th {\n",
       "        vertical-align: top;\n",
       "    }\n",
       "\n",
       "    .dataframe thead th {\n",
       "        text-align: right;\n",
       "    }\n",
       "</style>\n",
       "<table border=\"1\" class=\"dataframe\">\n",
       "  <thead>\n",
       "    <tr style=\"text-align: right;\">\n",
       "      <th></th>\n",
       "      <th>0</th>\n",
       "      <th>1</th>\n",
       "      <th>2</th>\n",
       "      <th>3</th>\n",
       "      <th>4</th>\n",
       "      <th>5</th>\n",
       "      <th>6</th>\n",
       "      <th>7</th>\n",
       "      <th>8</th>\n",
       "      <th>9</th>\n",
       "      <th>...</th>\n",
       "      <th>3056</th>\n",
       "      <th>3057</th>\n",
       "      <th>3058</th>\n",
       "      <th>3059</th>\n",
       "      <th>3060</th>\n",
       "      <th>3061</th>\n",
       "      <th>3062</th>\n",
       "      <th>3063</th>\n",
       "      <th>3064</th>\n",
       "      <th>label</th>\n",
       "    </tr>\n",
       "  </thead>\n",
       "  <tbody>\n",
       "    <tr>\n",
       "      <th>0</th>\n",
       "      <td>0.0</td>\n",
       "      <td>0.000000</td>\n",
       "      <td>0.000000</td>\n",
       "      <td>0.000000</td>\n",
       "      <td>0.0</td>\n",
       "      <td>0.0</td>\n",
       "      <td>0.0</td>\n",
       "      <td>0.130454</td>\n",
       "      <td>0.130454</td>\n",
       "      <td>0.0</td>\n",
       "      <td>...</td>\n",
       "      <td>0.0</td>\n",
       "      <td>0.0</td>\n",
       "      <td>0.0</td>\n",
       "      <td>0.0</td>\n",
       "      <td>0.0</td>\n",
       "      <td>0.0</td>\n",
       "      <td>0.0</td>\n",
       "      <td>0.0</td>\n",
       "      <td>0.0</td>\n",
       "      <td>1.0</td>\n",
       "    </tr>\n",
       "    <tr>\n",
       "      <th>1</th>\n",
       "      <td>0.0</td>\n",
       "      <td>0.000000</td>\n",
       "      <td>0.098873</td>\n",
       "      <td>0.098873</td>\n",
       "      <td>0.0</td>\n",
       "      <td>0.0</td>\n",
       "      <td>0.0</td>\n",
       "      <td>0.000000</td>\n",
       "      <td>0.000000</td>\n",
       "      <td>0.0</td>\n",
       "      <td>...</td>\n",
       "      <td>0.0</td>\n",
       "      <td>0.0</td>\n",
       "      <td>0.0</td>\n",
       "      <td>0.0</td>\n",
       "      <td>0.0</td>\n",
       "      <td>0.0</td>\n",
       "      <td>0.0</td>\n",
       "      <td>0.0</td>\n",
       "      <td>0.0</td>\n",
       "      <td>1.0</td>\n",
       "    </tr>\n",
       "    <tr>\n",
       "      <th>2</th>\n",
       "      <td>0.0</td>\n",
       "      <td>0.605844</td>\n",
       "      <td>0.000000</td>\n",
       "      <td>0.000000</td>\n",
       "      <td>0.0</td>\n",
       "      <td>0.0</td>\n",
       "      <td>0.0</td>\n",
       "      <td>0.000000</td>\n",
       "      <td>0.000000</td>\n",
       "      <td>0.0</td>\n",
       "      <td>...</td>\n",
       "      <td>0.0</td>\n",
       "      <td>0.0</td>\n",
       "      <td>0.0</td>\n",
       "      <td>0.0</td>\n",
       "      <td>0.0</td>\n",
       "      <td>0.0</td>\n",
       "      <td>0.0</td>\n",
       "      <td>0.0</td>\n",
       "      <td>0.0</td>\n",
       "      <td>1.0</td>\n",
       "    </tr>\n",
       "    <tr>\n",
       "      <th>3</th>\n",
       "      <td>0.0</td>\n",
       "      <td>0.000000</td>\n",
       "      <td>0.000000</td>\n",
       "      <td>0.000000</td>\n",
       "      <td>0.0</td>\n",
       "      <td>0.0</td>\n",
       "      <td>0.0</td>\n",
       "      <td>0.000000</td>\n",
       "      <td>0.000000</td>\n",
       "      <td>0.0</td>\n",
       "      <td>...</td>\n",
       "      <td>0.0</td>\n",
       "      <td>0.0</td>\n",
       "      <td>0.0</td>\n",
       "      <td>0.0</td>\n",
       "      <td>0.0</td>\n",
       "      <td>0.0</td>\n",
       "      <td>0.0</td>\n",
       "      <td>0.0</td>\n",
       "      <td>0.0</td>\n",
       "      <td>1.0</td>\n",
       "    </tr>\n",
       "    <tr>\n",
       "      <th>4</th>\n",
       "      <td>0.0</td>\n",
       "      <td>0.000000</td>\n",
       "      <td>0.000000</td>\n",
       "      <td>0.228969</td>\n",
       "      <td>0.0</td>\n",
       "      <td>0.0</td>\n",
       "      <td>0.0</td>\n",
       "      <td>0.000000</td>\n",
       "      <td>0.000000</td>\n",
       "      <td>0.0</td>\n",
       "      <td>...</td>\n",
       "      <td>0.0</td>\n",
       "      <td>0.0</td>\n",
       "      <td>0.0</td>\n",
       "      <td>0.0</td>\n",
       "      <td>0.0</td>\n",
       "      <td>0.0</td>\n",
       "      <td>0.0</td>\n",
       "      <td>0.0</td>\n",
       "      <td>0.0</td>\n",
       "      <td>1.0</td>\n",
       "    </tr>\n",
       "  </tbody>\n",
       "</table>\n",
       "<p>5 rows × 3066 columns</p>\n",
       "</div>"
      ],
      "text/plain": [
       "     0         1         2         3    4    5    6         7         8    9  \\\n",
       "0  0.0  0.000000  0.000000  0.000000  0.0  0.0  0.0  0.130454  0.130454  0.0   \n",
       "1  0.0  0.000000  0.098873  0.098873  0.0  0.0  0.0  0.000000  0.000000  0.0   \n",
       "2  0.0  0.605844  0.000000  0.000000  0.0  0.0  0.0  0.000000  0.000000  0.0   \n",
       "3  0.0  0.000000  0.000000  0.000000  0.0  0.0  0.0  0.000000  0.000000  0.0   \n",
       "4  0.0  0.000000  0.000000  0.228969  0.0  0.0  0.0  0.000000  0.000000  0.0   \n",
       "\n",
       "   ...    3056  3057  3058  3059  3060  3061  3062  3063  3064  label  \n",
       "0  ...     0.0   0.0   0.0   0.0   0.0   0.0   0.0   0.0   0.0    1.0  \n",
       "1  ...     0.0   0.0   0.0   0.0   0.0   0.0   0.0   0.0   0.0    1.0  \n",
       "2  ...     0.0   0.0   0.0   0.0   0.0   0.0   0.0   0.0   0.0    1.0  \n",
       "3  ...     0.0   0.0   0.0   0.0   0.0   0.0   0.0   0.0   0.0    1.0  \n",
       "4  ...     0.0   0.0   0.0   0.0   0.0   0.0   0.0   0.0   0.0    1.0  \n",
       "\n",
       "[5 rows x 3066 columns]"
      ]
     },
     "execution_count": 7,
     "metadata": {},
     "output_type": "execute_result"
    }
   ],
   "source": [
    "df=pd.read_csv(\"bow_50.csv\")\n",
    "df=df.drop(columns='Unnamed: 0',axis=1)\n",
    "df.head(5)"
   ]
  },
  {
   "cell_type": "markdown",
   "metadata": {},
   "source": [
    "### Estructuracion data entrenamiento"
   ]
  },
  {
   "cell_type": "code",
   "execution_count": 8,
   "metadata": {},
   "outputs": [],
   "source": [
    "X=df.iloc[:,:-1]\n",
    "y=df.iloc[:,-1]\n",
    "y=['5' if x >10 else x for x in y]\n",
    "y=['a' if float(x) <5 else 'b' for x in y]\n",
    "xEntrenamiento, xPrueba, yEntrenamiento, yPrueba = train_test_split(X,y, test_size=0.2)"
   ]
  },
  {
   "cell_type": "markdown",
   "metadata": {},
   "source": [
    "## ENTRENAMIENTO DEL MODELO"
   ]
  },
  {
   "cell_type": "markdown",
   "metadata": {},
   "source": [
    "### Cargamos los modelos de clasificación a utilizar"
   ]
  },
  {
   "cell_type": "code",
   "execution_count": 10,
   "metadata": {},
   "outputs": [],
   "source": [
    "RFcla=RandomForestClassifier()\n",
    "SVMcla=SVC()\n",
    "GBcla=GradientBoostingClassifier()\n",
    "DTcla=DecisionTreeClassifier()\n",
    "knn=KNeighborsClassifier()"
   ]
  },
  {
   "cell_type": "markdown",
   "metadata": {},
   "source": [
    "### Se realiza el entrenamiento de cada uno de los modelos"
   ]
  },
  {
   "cell_type": "code",
   "execution_count": 11,
   "metadata": {},
   "outputs": [
    {
     "name": "stderr",
     "output_type": "stream",
     "text": [
      "C:\\ProgramData\\Anaconda2\\lib\\site-packages\\sklearn\\ensemble\\forest.py:246: FutureWarning: The default value of n_estimators will change from 10 in version 0.20 to 100 in 0.22.\n",
      "  \"10 in version 0.20 to 100 in 0.22.\", FutureWarning)\n",
      "C:\\ProgramData\\Anaconda2\\lib\\site-packages\\sklearn\\svm\\base.py:196: FutureWarning: The default value of gamma will change from 'auto' to 'scale' in version 0.22 to account better for unscaled features. Set gamma explicitly to 'auto' or 'scale' to avoid this warning.\n",
      "  \"avoid this warning.\", FutureWarning)\n"
     ]
    },
    {
     "data": {
      "text/plain": [
       "list"
      ]
     },
     "execution_count": 11,
     "metadata": {},
     "output_type": "execute_result"
    }
   ],
   "source": [
    "RFcla.fit(xEntrenamiento,yEntrenamiento)\n",
    "SVMcla.fit(xEntrenamiento,yEntrenamiento)\n",
    "GBcla.fit(xEntrenamiento,yEntrenamiento)\n",
    "DTcla.fit(xEntrenamiento,yEntrenamiento)\n",
    "knn.fit(xEntrenamiento,yEntrenamiento)\n",
    "\n",
    "type(RFcla.predict(xPrueba))\n",
    "type(yPrueba)"
   ]
  },
  {
   "cell_type": "code",
   "execution_count": null,
   "metadata": {},
   "outputs": [],
   "source": [
    "### Entrenamos un Knn con diferentes vecinos"
   ]
  },
  {
   "cell_type": "code",
   "execution_count": 12,
   "metadata": {},
   "outputs": [
    {
     "name": "stdout",
     "output_type": "stream",
     "text": [
      "Vecinos\n",
      "0.5420454545454545\n",
      "Vecinos\n",
      "0.5693181818181818\n",
      "Vecinos\n",
      "0.5454545454545454\n"
     ]
    }
   ],
   "source": [
    "for k in list(range(1,4)):\n",
    "    knn=KNeighborsClassifier(n_neighbors=k)\n",
    "    knn.fit(xEntrenamiento,yEntrenamiento)\n",
    "    precision=0\n",
    "\n",
    "    for i,val in enumerate(knn.predict(xPrueba)):\n",
    "        if val == pd.DataFrame(yPrueba)[0].iloc[i]:\n",
    "            precision=precision+1\n",
    "    print('Vecinos')\n",
    "    print((precision/len(yPrueba)))"
   ]
  },
  {
   "cell_type": "markdown",
   "metadata": {},
   "source": [
    "### Calculamos precisión para los modelos entrenados"
   ]
  },
  {
   "cell_type": "code",
   "execution_count": 13,
   "metadata": {},
   "outputs": [
    {
     "name": "stdout",
     "output_type": "stream",
     "text": [
      "Random forest\n",
      "0.6022727272727273\n"
     ]
    }
   ],
   "source": [
    "precision=0\n",
    "for i,val in enumerate(RFcla.predict(xPrueba)):\n",
    "    if val == pd.DataFrame(yPrueba)[0].iloc[i]:\n",
    "        precision=precision+1\n",
    "print('Random forest')\n",
    "print((precision/len(yPrueba)))"
   ]
  },
  {
   "cell_type": "code",
   "execution_count": 14,
   "metadata": {},
   "outputs": [
    {
     "name": "stdout",
     "output_type": "stream",
     "text": [
      "SVM\n",
      "0.6056818181818182\n"
     ]
    }
   ],
   "source": [
    "precision=0\n",
    "for i,val in enumerate(SVMcla.predict(xPrueba)):\n",
    "    if val == pd.DataFrame(yPrueba)[0].iloc[i]:\n",
    "        precision=precision+1\n",
    "print('SVM')\n",
    "print((precision/len(yPrueba)))"
   ]
  },
  {
   "cell_type": "code",
   "execution_count": 15,
   "metadata": {},
   "outputs": [
    {
     "name": "stdout",
     "output_type": "stream",
     "text": [
      "Gradiente Boosting\n",
      "0.6056818181818182\n"
     ]
    }
   ],
   "source": [
    "precision=0\n",
    "for i,val in enumerate(GBcla.predict(xPrueba)):\n",
    "    if val == pd.DataFrame(yPrueba)[0].iloc[i]:\n",
    "        precision=precision+1\n",
    "print('Gradiente Boosting')\n",
    "print((precision/len(yPrueba)))"
   ]
  },
  {
   "cell_type": "code",
   "execution_count": 16,
   "metadata": {},
   "outputs": [
    {
     "name": "stdout",
     "output_type": "stream",
     "text": [
      "DecisoinTree\n",
      "0.5511363636363636\n"
     ]
    }
   ],
   "source": [
    "precision=0\n",
    "for i,val in enumerate(DTcla.predict(xPrueba)):\n",
    "    if val == pd.DataFrame(yPrueba)[0].iloc[i]:\n",
    "        precision=precision+1\n",
    "print('DecisoinTree')\n",
    "print((precision/len(yPrueba)))"
   ]
  }
 ],
 "metadata": {
  "kernelspec": {
   "display_name": "Python 3",
   "language": "python",
   "name": "python3"
  },
  "language_info": {
   "codemirror_mode": {
    "name": "ipython",
    "version": 3
   },
   "file_extension": ".py",
   "mimetype": "text/x-python",
   "name": "python",
   "nbconvert_exporter": "python",
   "pygments_lexer": "ipython3",
   "version": "3.7.1"
  }
 },
 "nbformat": 4,
 "nbformat_minor": 2
}
